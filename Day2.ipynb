{
 "cells": [
  {
   "cell_type": "markdown",
   "id": "c6a847e6-9b79-49ee-a844-fa3bbe33414f",
   "metadata": {},
   "source": [
    "a=10"
   ]
  },
  {
   "cell_type": "code",
   "execution_count": 1,
   "id": "587ca2d9-7843-42fc-a527-886f1fb18a5f",
   "metadata": {},
   "outputs": [],
   "source": [
    "a='c'"
   ]
  },
  {
   "cell_type": "code",
   "execution_count": 2,
   "id": "1635e3d6-c75d-4a7e-9d58-39c519e14804",
   "metadata": {},
   "outputs": [
    {
     "data": {
      "text/plain": [
       "str"
      ]
     },
     "execution_count": 2,
     "metadata": {},
     "output_type": "execute_result"
    }
   ],
   "source": [
    "type(a)"
   ]
  },
  {
   "cell_type": "code",
   "execution_count": 4,
   "id": "fe72e39e-5b8e-4e12-85d3-613893df3cac",
   "metadata": {},
   "outputs": [
    {
     "data": {
      "text/plain": [
       "123"
      ]
     },
     "execution_count": 4,
     "metadata": {},
     "output_type": "execute_result"
    }
   ],
   "source": [
    "int('123')"
   ]
  },
  {
   "cell_type": "code",
   "execution_count": 5,
   "id": "f4674834-6958-4cf9-bf40-a92871bf1b4c",
   "metadata": {},
   "outputs": [
    {
     "name": "stdout",
     "output_type": "stream",
     "text": [
      "Hello World\n"
     ]
    }
   ],
   "source": [
    "print(\"Hello World\")"
   ]
  },
  {
   "cell_type": "code",
   "execution_count": 6,
   "id": "82c2253a-b757-4e6f-b9ea-a9a1c0e3e79b",
   "metadata": {},
   "outputs": [
    {
     "name": "stdout",
     "output_type": "stream",
     "text": [
      "123\n"
     ]
    }
   ],
   "source": [
    "print(123)"
   ]
  },
  {
   "cell_type": "code",
   "execution_count": 7,
   "id": "0afaf0be-2a0b-46b3-a1ac-ed96326a4dad",
   "metadata": {},
   "outputs": [
    {
     "name": "stdout",
     "output_type": "stream",
     "text": [
      "Hello World\n"
     ]
    }
   ],
   "source": [
    "print('Hello World')"
   ]
  },
  {
   "cell_type": "code",
   "execution_count": 8,
   "id": "67f35a4c-a7ce-48c2-beb7-3213212bfea1",
   "metadata": {},
   "outputs": [
    {
     "name": "stdout",
     "output_type": "stream",
     "text": [
      "My age is:  32\n"
     ]
    }
   ],
   "source": [
    "age=32\n",
    "print(\"My age is: \",age)"
   ]
  },
  {
   "cell_type": "code",
   "execution_count": 11,
   "id": "40582093-a706-443d-ac5c-56c44e750d73",
   "metadata": {},
   "outputs": [
    {
     "name": "stdout",
     "output_type": "stream",
     "text": [
      "my age is: 32\n"
     ]
    }
   ],
   "source": [
    "##f string\n",
    "print(f\"my age is: {age}\")"
   ]
  },
  {
   "cell_type": "code",
   "execution_count": 20,
   "id": "137ae5b7-dfd7-43df-98c0-b40dead70d80",
   "metadata": {},
   "outputs": [
    {
     "name": "stdout",
     "output_type": "stream",
     "text": [
      "My Name is Amit pandey and age is 32\n"
     ]
    }
   ],
   "source": [
    "##format()\n",
    "name=\"Amit pandey\"\n",
    "age=32\n",
    "print(\"My Name is {} and age is {}\".format(name,age))"
   ]
  },
  {
   "cell_type": "code",
   "execution_count": 27,
   "id": "ddd0ba62-c484-4341-8ffe-b1c3da4f01fc",
   "metadata": {},
   "outputs": [
    {
     "name": "stdout",
     "output_type": "stream",
     "text": [
      "my name is amit and I did podtgraduation in MCA and I live in Ghamahapur\n"
     ]
    }
   ],
   "source": [
    "name=\"amit\"\n",
    "degree=\"MCA\"\n",
    "hobby=\"Cricket\"\n",
    "Address=\"Ghamahapur\"\n",
    "PinCode= 221105\n",
    "print(\"my name is {} and I did podtgraduation in {} and I live in {}\".format(name,degree,Address))"
   ]
  },
  {
   "cell_type": "code",
   "execution_count": 24,
   "id": "ec77e6a0-d610-4abb-b623-78a99f10b520",
   "metadata": {},
   "outputs": [
    {
     "name": "stdout",
     "output_type": "stream",
     "text": [
      "Amit\n"
     ]
    }
   ],
   "source": [
    "print(\"Amit\")"
   ]
  },
  {
   "cell_type": "code",
   "execution_count": 31,
   "id": "8aa7db35-3ded-4ca3-8b84-7dc59f2d63e3",
   "metadata": {},
   "outputs": [
    {
     "name": "stdout",
     "output_type": "stream",
     "text": [
      "My name is amit and age is 32\n"
     ]
    }
   ],
   "source": [
    "##placeholder\n",
    "print(\"My name is {firstname} and age is {firstage}\".format(firstage=age,firstname=name))"
   ]
  },
  {
   "cell_type": "code",
   "execution_count": 15,
   "id": "bf49732e-80b9-41b3-9dd2-106730d4c850",
   "metadata": {},
   "outputs": [
    {
     "ename": "NameError",
     "evalue": "name 'degree' is not defined",
     "output_type": "error",
     "traceback": [
      "\u001b[0;31m---------------------------------------------------------------------------\u001b[0m",
      "\u001b[0;31mNameError\u001b[0m                                 Traceback (most recent call last)",
      "Cell \u001b[0;32mIn[15], line 4\u001b[0m\n\u001b[1;32m      2\u001b[0m Age\u001b[38;5;241m=\u001b[39m\u001b[38;5;241m32\u001b[39m\n\u001b[1;32m      3\u001b[0m Degree\u001b[38;5;241m=\u001b[39m\u001b[38;5;124m\"\u001b[39m\u001b[38;5;124mMCA\u001b[39m\u001b[38;5;124m\"\u001b[39m\n\u001b[0;32m----> 4\u001b[0m \u001b[38;5;28mprint\u001b[39m(\u001b[38;5;124m\"\u001b[39m\u001b[38;5;124mmy age is \u001b[39m\u001b[38;5;132;01m{}\u001b[39;00m\u001b[38;5;124m and I have completed: my degree is\u001b[39m\u001b[38;5;132;01m{}\u001b[39;00m\u001b[38;5;124m and Name is \u001b[39m\u001b[38;5;132;01m{}\u001b[39;00m\u001b[38;5;124m\"\u001b[39m\u001b[38;5;241m.\u001b[39mformat(age,\u001b[43mdegree\u001b[49m,name))\n",
      "\u001b[0;31mNameError\u001b[0m: name 'degree' is not defined"
     ]
    }
   ],
   "source": [
    "name=\"Amit Pandey\"\n",
    "Age=32\n",
    "Degree=\"MCA\"\n",
    "print(\"my age is {} and I have completed: my degree is{} and Name is {}\".format(age,degree,name))"
   ]
  },
  {
   "cell_type": "code",
   "execution_count": null,
   "id": "8be0fbfc-b7a2-45ef-ad44-4e11c27b8073",
   "metadata": {},
   "outputs": [],
   "source": []
  },
  {
   "cell_type": "code",
   "execution_count": 33,
   "id": "ae09617a-c46f-489d-aa08-683c78efedbd",
   "metadata": {},
   "outputs": [
    {
     "name": "stdout",
     "output_type": "stream",
     "text": [
      "name\n"
     ]
    }
   ],
   "source": [
    "name=\"jojo\"\n",
    "print(\"name\")"
   ]
  },
  {
   "cell_type": "code",
   "execution_count": 34,
   "id": "57d528ee-a6c6-4ff2-9872-0978a72a4adc",
   "metadata": {},
   "outputs": [
    {
     "name": "stdout",
     "output_type": "stream",
     "text": [
      "You are eligible to Vote\n"
     ]
    }
   ],
   "source": [
    "##Control Flow\n",
    "###Decision Making Statements\n",
    "##If statement\n",
    "age=18\n",
    "if age>=18:\n",
    "    print(\"You are eligible to Vote\")"
   ]
  },
  {
   "cell_type": "code",
   "execution_count": 10,
   "id": "930c824b-4357-423f-bf8d-11ac40985101",
   "metadata": {},
   "outputs": [
    {
     "name": "stdin",
     "output_type": "stream",
     "text": [
      "please enter the age and check the eligibility for voting 35\n"
     ]
    },
    {
     "name": "stdout",
     "output_type": "stream",
     "text": [
      "Nota\n"
     ]
    }
   ],
   "source": [
    "##IfElse\n",
    "age=int(input(\"please enter the age and check the eligibility for voting\"))\n",
    "if age>=18 and age<=30:\n",
    "    print(\"you are eligible for voting\")\n",
    "elif age<=17:\n",
    "    print(\"you are not eligible for voting\")\n",
    "else:\n",
    "    print(\"Nota\")\n",
    "\n",
    "    \n"
   ]
  },
  {
   "cell_type": "code",
   "execution_count": 18,
   "id": "6a3cae97-2385-4f5a-b614-ffbb787ce752",
   "metadata": {},
   "outputs": [
    {
     "name": "stdin",
     "output_type": "stream",
     "text": [
      "please enter the first number 5\n",
      "enter the secodn number 15\n",
      "Enter the third number 10\n"
     ]
    },
    {
     "name": "stdout",
     "output_type": "stream",
     "text": [
      "b is the largest number\n"
     ]
    }
   ],
   "source": [
    "##IfElse\n",
    "a=int(input(\"please enter the first number\"))\n",
    "b=int(input(\"enter the secodn number\"))\n",
    "c=int(input(\"Enter the third number\"))\n",
    "if a>b and a>c:\n",
    "    print(\" a is the largest number : {}\".format(a))\n",
    "elif b>a and b>c:\n",
    "    print(\"b is the largest number : {}\".format(b))\n",
    "else:\n",
    "    print(\"c is the largest number : {}\".format(c))\n",
    "\n",
    "    \n",
    "\n",
    "    "
   ]
  },
  {
   "cell_type": "code",
   "execution_count": 44,
   "id": "61b76798-e670-4aca-b253-d8d5ff773f71",
   "metadata": {},
   "outputs": [
    {
     "name": "stdin",
     "output_type": "stream",
     "text": [
      "Check it whether Year is leap or not 2009\n"
     ]
    },
    {
     "name": "stdout",
     "output_type": "stream",
     "text": [
      "Year is not leap year\n"
     ]
    }
   ],
   "source": [
    "##leap year example\n",
    "year=int(input(\"Check it whether Year is leap or not\"))\n",
    "if (year % 4 == 0) and (year%100!=0):\n",
    "    print(\"leap year\".format(year))\n",
    "else:\n",
    "    print(\"Year is not leap year\")\n"
   ]
  },
  {
   "cell_type": "code",
   "execution_count": 35,
   "id": "f324b3f6-6fa1-429c-9128-b95b2736d318",
   "metadata": {},
   "outputs": [
    {
     "name": "stdin",
     "output_type": "stream",
     "text": [
      "Enter a year:  2000\n"
     ]
    },
    {
     "name": "stdout",
     "output_type": "stream",
     "text": [
      "2000 is a leap year\n"
     ]
    }
   ],
   "source": [
    "#Variable definition and assignment\n",
    "#year = 2024\n",
    "\n",
    "#Remove comments from the bottom line to take input from the user\n",
    "year = int(input(\"Enter a year: \"))\n",
    "\n",
    "#It is a centenary year if the value is divisible by 100 with no remainder.\n",
    "#Centenary year is a leap year divided by 400\n",
    "if (year % 400 == 0) and (year % 100 == 0):\n",
    "    print(\"{0} is a leap year\".format(year))\n",
    "\n",
    "#If it is not divisible by 100 then it is not a centenary year\n",
    "#A year divisible by 4 is a leap year\n",
    "elif (year % 4 ==0) and (year % 100 != 0):\n",
    "    print(\"{0} is a leap year.\".format(year))\n",
    "\n",
    "#If the Year is not divisible by both 400 (centenary year) and 4 (centenary year) then:\n",
    "#The Year is not a leap year\n",
    "else:\n",
    "    print(\"{0} is not a leap year.\".format(year))"
   ]
  },
  {
   "cell_type": "code",
   "execution_count": 42,
   "id": "00bf2abb-788e-458c-b08c-ad208b888ade",
   "metadata": {},
   "outputs": [
    {
     "data": {
      "text/plain": [
       "True"
      ]
     },
     "execution_count": 42,
     "metadata": {},
     "output_type": "execute_result"
    }
   ],
   "source": [
    "(year!=0)"
   ]
  },
  {
   "cell_type": "code",
   "execution_count": null,
   "id": "2ce42fb8-9e12-4285-8a32-bf26b3e58cf6",
   "metadata": {},
   "outputs": [],
   "source": []
  }
 ],
 "metadata": {
  "kernelspec": {
   "display_name": "Python 3 (ipykernel)",
   "language": "python",
   "name": "python3"
  },
  "language_info": {
   "codemirror_mode": {
    "name": "ipython",
    "version": 3
   },
   "file_extension": ".py",
   "mimetype": "text/x-python",
   "name": "python",
   "nbconvert_exporter": "python",
   "pygments_lexer": "ipython3",
   "version": "3.10.8"
  }
 },
 "nbformat": 4,
 "nbformat_minor": 5
}
